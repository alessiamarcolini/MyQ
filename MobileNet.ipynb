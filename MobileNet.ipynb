{
 "cells": [
  {
   "cell_type": "code",
   "execution_count": 1,
   "metadata": {},
   "outputs": [],
   "source": [
    "import os\n",
    "import datetime\n",
    "import matplotlib.pyplot as plt\n",
    "from PIL import Image\n",
    "%matplotlib inline\n",
    "\n",
    "import numpy as np\n",
    "import pandas as pd"
   ]
  },
  {
   "cell_type": "code",
   "execution_count": 2,
   "metadata": {},
   "outputs": [],
   "source": [
    "os.environ[\"CUDA_VISIBLE_DEVICES\"]=\"0\""
   ]
  },
  {
   "cell_type": "code",
   "execution_count": 3,
   "metadata": {},
   "outputs": [],
   "source": [
    "import tensorflow as tf\n",
    "from tensorflow import keras\n",
    "from tensorflow.keras import backend as K\n",
    "from tensorflow.keras.layers import Dense, Activation, GlobalAveragePooling2D\n",
    "from tensorflow.keras.preprocessing.image import ImageDataGenerator\n",
    "from tensorflow.keras.preprocessing import image\n",
    "from tensorflow.keras.models import Model, save_model\n",
    "from tensorflow.keras.applications import MobileNet\n",
    "from tensorflow.keras.applications.mobilenet import preprocess_input"
   ]
  },
  {
   "cell_type": "code",
   "execution_count": 4,
   "metadata": {},
   "outputs": [
    {
     "name": "stdout",
     "output_type": "stream",
     "text": [
      "WARNING:tensorflow:From /home/marcolini/anaconda3/envs/deep_myq/lib/python3.6/site-packages/tensorflow/python/ops/resource_variable_ops.py:435: colocate_with (from tensorflow.python.framework.ops) is deprecated and will be removed in a future version.\n",
      "Instructions for updating:\n",
      "Colocations handled automatically by placer.\n"
     ]
    },
    {
     "name": "stderr",
     "output_type": "stream",
     "text": [
      "/home/marcolini/anaconda3/envs/deep_myq/lib/python3.6/site-packages/keras_applications/mobilenet.py:208: UserWarning: MobileNet shape is undefined. Weights for input shape (224, 224) will be loaded.\n",
      "  warnings.warn('MobileNet shape is undefined.'\n"
     ]
    }
   ],
   "source": [
    "base_model = MobileNet(weights='imagenet', include_top=False) "
   ]
  },
  {
   "cell_type": "code",
   "execution_count": 5,
   "metadata": {},
   "outputs": [],
   "source": [
    "DATASET_DIR = '/data3/marcolini/myq_dataset/Selfie-dataset/labelled/'"
   ]
  },
  {
   "cell_type": "code",
   "execution_count": 6,
   "metadata": {},
   "outputs": [],
   "source": [
    "images = os.listdir(DATASET_DIR)\n",
    "images = pd.DataFrame(images)\n",
    "images = images.rename(index=int, columns={0: \"filename\"})\n",
    "images = images.sample(frac=1).reset_index(drop=True)"
   ]
  },
  {
   "cell_type": "code",
   "execution_count": 7,
   "metadata": {},
   "outputs": [
    {
     "data": {
      "text/html": [
       "<div>\n",
       "<style scoped>\n",
       "    .dataframe tbody tr th:only-of-type {\n",
       "        vertical-align: middle;\n",
       "    }\n",
       "\n",
       "    .dataframe tbody tr th {\n",
       "        vertical-align: top;\n",
       "    }\n",
       "\n",
       "    .dataframe thead th {\n",
       "        text-align: right;\n",
       "    }\n",
       "</style>\n",
       "<table border=\"1\" class=\"dataframe\">\n",
       "  <thead>\n",
       "    <tr style=\"text-align: right;\">\n",
       "      <th></th>\n",
       "      <th>filename</th>\n",
       "    </tr>\n",
       "  </thead>\n",
       "  <tbody>\n",
       "    <tr>\n",
       "      <th>0</th>\n",
       "      <td>0_0_4_10249109_610036962415333_2136693797_a.jpg</td>\n",
       "    </tr>\n",
       "    <tr>\n",
       "      <th>1</th>\n",
       "      <td>1_1_2_1171148_524036517705698_54959346_a.jpg</td>\n",
       "    </tr>\n",
       "    <tr>\n",
       "      <th>2</th>\n",
       "      <td>1_1_3_1530850_505290662908732_941927508_a.jpg</td>\n",
       "    </tr>\n",
       "    <tr>\n",
       "      <th>3</th>\n",
       "      <td>0_1_3_10013202_748090675236234_247501991_a.jpg</td>\n",
       "    </tr>\n",
       "    <tr>\n",
       "      <th>4</th>\n",
       "      <td>2_1_3_10005480_320200204794412_2034690271_a.jpg</td>\n",
       "    </tr>\n",
       "  </tbody>\n",
       "</table>\n",
       "</div>"
      ],
      "text/plain": [
       "                                          filename\n",
       "0  0_0_4_10249109_610036962415333_2136693797_a.jpg\n",
       "1     1_1_2_1171148_524036517705698_54959346_a.jpg\n",
       "2    1_1_3_1530850_505290662908732_941927508_a.jpg\n",
       "3   0_1_3_10013202_748090675236234_247501991_a.jpg\n",
       "4  2_1_3_10005480_320200204794412_2034690271_a.jpg"
      ]
     },
     "execution_count": 7,
     "metadata": {},
     "output_type": "execute_result"
    }
   ],
   "source": [
    "images.head()"
   ]
  },
  {
   "cell_type": "code",
   "execution_count": 8,
   "metadata": {},
   "outputs": [],
   "source": [
    "images['negative'] = images['filename'].apply(lambda x: (int(x.split('_')[0] == '0')))\n",
    "images['neutral'] = images['filename'].apply(lambda x: (int(x.split('_')[0] == '1')))\n",
    "images['positive'] = images['filename'].apply(lambda x: (int(x.split('_')[0] == '2')))\n",
    "\n",
    "images['male'] = images['filename'].apply(lambda x: (int(x.split('_')[1] == '0')))\n",
    "images['female'] = images['filename'].apply(lambda x: (int(x.split('_')[1] == '1')))\n",
    "\n",
    "images['baby'] = images['filename'].apply(lambda x: (int(x.split('_')[2] == '0')))\n",
    "images['child'] = images['filename'].apply(lambda x: (int(x.split('_')[2] == '1')))\n",
    "images['teenager'] = images['filename'].apply(lambda x: (int(x.split('_')[2] == '2')))\n",
    "images['youth'] = images['filename'].apply(lambda x: (int(x.split('_')[2] == '3')))\n",
    "images['middle_age'] = images['filename'].apply(lambda x: (int(x.split('_')[2] == '4')))\n",
    "images['senior'] = images['filename'].apply(lambda x: (int(x.split('_')[2] == '5')))"
   ]
  },
  {
   "cell_type": "code",
   "execution_count": 9,
   "metadata": {},
   "outputs": [
    {
     "data": {
      "text/plain": [
       "filename      0_0_4_10249109_610036962415333_2136693797_a.jp...\n",
       "negative                                                   4244\n",
       "neutral                                                   16453\n",
       "positive                                                  12170\n",
       "male                                                       8770\n",
       "female                                                    24099\n",
       "baby                                                         96\n",
       "child                                                       690\n",
       "teenager                                                   4945\n",
       "youth                                                     26143\n",
       "middle_age                                                  982\n",
       "senior                                                       13\n",
       "dtype: object"
      ]
     },
     "execution_count": 9,
     "metadata": {},
     "output_type": "execute_result"
    }
   ],
   "source": [
    "images.sum()"
   ]
  },
  {
   "cell_type": "code",
   "execution_count": 10,
   "metadata": {},
   "outputs": [
    {
     "data": {
      "text/plain": [
       "Index(['negative', 'neutral', 'positive', 'male', 'female', 'baby', 'child',\n",
       "       'teenager', 'youth', 'middle_age', 'senior'],\n",
       "      dtype='object')"
      ]
     },
     "execution_count": 10,
     "metadata": {},
     "output_type": "execute_result"
    }
   ],
   "source": [
    "images.columns[1:]"
   ]
  },
  {
   "cell_type": "code",
   "execution_count": 11,
   "metadata": {},
   "outputs": [],
   "source": [
    "train_datagen = ImageDataGenerator(preprocessing_function=preprocess_input)\n",
    "test_datagen = ImageDataGenerator(preprocessing_function=preprocess_input)"
   ]
  },
  {
   "cell_type": "code",
   "execution_count": 12,
   "metadata": {},
   "outputs": [],
   "source": [
    "columns = images.columns[1:].tolist()"
   ]
  },
  {
   "cell_type": "code",
   "execution_count": 13,
   "metadata": {},
   "outputs": [],
   "source": [
    "n_train = len(images)//4 *3"
   ]
  },
  {
   "cell_type": "code",
   "execution_count": 15,
   "metadata": {},
   "outputs": [
    {
     "name": "stdout",
     "output_type": "stream",
     "text": [
      "Found 24651 images.\n",
      "Found 8218 images.\n"
     ]
    }
   ],
   "source": [
    "train_generator = train_datagen.flow_from_dataframe(dataframe=images[:n_train], \n",
    "                                                    directory=DATASET_DIR, \n",
    "                                                    x_col='filename', \n",
    "                                                    y_col=columns,\n",
    "                                                    class_mode='other',\n",
    "                                                    target_size=(224,224),\n",
    "                                                    color_mode='rgb')\n",
    "\n",
    "test_generator = test_datagen.flow_from_dataframe(dataframe=images[n_train:], \n",
    "                                                    directory=DATASET_DIR, \n",
    "                                                    x_col='filename', \n",
    "                                                    y_col=columns,\n",
    "                                                    class_mode='other',\n",
    "                                                    target_size=(224,224),\n",
    "                                                    color_mode='rgb',\n",
    "                                                    shuffle=False)"
   ]
  },
  {
   "cell_type": "code",
   "execution_count": 15,
   "metadata": {},
   "outputs": [],
   "source": [
    "x = base_model.output\n",
    "x = GlobalAveragePooling2D()(x)\n",
    "x = Dense(1024, activation='relu')(x) \n",
    "x = Dense(1024, activation='relu')(x)\n",
    "x = Dense(512, activation='relu')(x) \n",
    "\n",
    "output_layers = []\n",
    "for i in range(11):\n",
    "    output_layers.append(Dense(1, activation = 'sigmoid')(x))\n",
    "\n",
    "model = Model(inputs=base_model.input, outputs=output_layers)"
   ]
  },
  {
   "cell_type": "code",
   "execution_count": 17,
   "metadata": {},
   "outputs": [],
   "source": [
    "for layer in model.layers[:87]:\n",
    "    layer.trainable=False\n",
    "for layer in model.layers[87:]:\n",
    "    layer.trainable=True"
   ]
  },
  {
   "cell_type": "code",
   "execution_count": null,
   "metadata": {},
   "outputs": [],
   "source": [
    "model.summary()"
   ]
  },
  {
   "cell_type": "code",
   "execution_count": 18,
   "metadata": {},
   "outputs": [],
   "source": [
    "opt = tf.train.AdamOptimizer()"
   ]
  },
  {
   "cell_type": "code",
   "execution_count": 19,
   "metadata": {},
   "outputs": [],
   "source": [
    "model.compile(optimizer=opt, loss=['binary_crossentropy']*11, metrics=['accuracy'])"
   ]
  },
  {
   "cell_type": "code",
   "execution_count": 20,
   "metadata": {},
   "outputs": [],
   "source": [
    "def generator_wrapper(generator):\n",
    "    for batch_x,batch_y in generator:\n",
    "        yield (batch_x, [batch_y[:,i] for i in range(11)])"
   ]
  },
  {
   "cell_type": "code",
   "execution_count": null,
   "metadata": {},
   "outputs": [],
   "source": [
    "next(generator_wrapper(train_generator))[0]"
   ]
  },
  {
   "cell_type": "code",
   "execution_count": 21,
   "metadata": {},
   "outputs": [],
   "source": [
    "step_size_train = train_generator.n//train_generator.batch_size\n",
    "step_size_test = test_generator.n//test_generator.batch_size"
   ]
  },
  {
   "cell_type": "code",
   "execution_count": 23,
   "metadata": {},
   "outputs": [],
   "source": [
    "log_dir = \"logs/fit/\" + datetime.datetime.now().strftime(\"%Y%m%d-%H%M%S\")\n",
    "tensorboard_callback = tf.keras.callbacks.TensorBoard(log_dir=log_dir, histogram_freq=0, write_graph=False)"
   ]
  },
  {
   "cell_type": "code",
   "execution_count": null,
   "metadata": {},
   "outputs": [
    {
     "name": "stdout",
     "output_type": "stream",
     "text": [
      "WARNING:tensorflow:From /home/marcolini/anaconda3/envs/deep_myq/lib/python3.6/site-packages/tensorflow/python/ops/math_ops.py:3066: to_int32 (from tensorflow.python.ops.math_ops) is deprecated and will be removed in a future version.\n",
      "Instructions for updating:\n",
      "Use tf.cast instead.\n",
      "  8/256 [..............................] - ETA: 16:17 - loss: 4.4535 - dense_3_loss: 0.5485 - dense_4_loss: 0.7613 - dense_5_loss: 0.8235 - dense_6_loss: 0.4825 - dense_7_loss: 0.4607 - dense_8_loss: 0.0371 - dense_9_loss: 0.1471 - dense_10_loss: 0.4587 - dense_11_loss: 0.5588 - dense_12_loss: 0.1753 - dense_13_loss: 2.2355e-05 - dense_3_acc: 0.8672 - dense_4_acc: 0.6016 - dense_5_acc: 0.5234 - dense_6_acc: 0.8125 - dense_7_acc: 0.8125 - dense_8_acc: 0.9922 - dense_9_acc: 0.9766 - dense_10_acc: 0.8789 - dense_11_acc: 0.8164 - dense_12_acc: 0.9688 - dense_13_acc: 1.0000"
     ]
    }
   ],
   "source": [
    "model.fit_generator(generator=generator_wrapper(train_generator),\n",
    "                    steps_per_epoch=step_size_train,\n",
    "                    validation_data=(generator_wrapper(test_generator)),\n",
    "                    validation_steps=step_size_test,\n",
    "                    callbacks=[tensorboard_callback],\n",
    "                    verbose=0,\n",
    "                    epochs=20)"
   ]
  },
  {
   "cell_type": "code",
   "execution_count": null,
   "metadata": {},
   "outputs": [],
   "source": [
    "model.save_weights('weights/mobilenet20_' + datetime.datetime.now().strftime(\"%Y%m%d-%H%M%S\"), save_format='tf')\n",
    "save_model(model, 'weights_h5/mobilenet20_' + datetime.datetime.now().strftime(\"%Y%m%d-%H%M%S\") + \".h5\")"
   ]
  },
  {
   "cell_type": "code",
   "execution_count": null,
   "metadata": {},
   "outputs": [],
   "source": [
    "for layer in model.layers[:87]:\n",
    "    layer.trainable=False\n",
    "for layer in model.layers[87:]:\n",
    "    layer.trainable=True"
   ]
  },
  {
   "cell_type": "code",
   "execution_count": null,
   "metadata": {},
   "outputs": [],
   "source": [
    "img = image.load_img('opencv_image.JPG', target_size=(224, 224))\n",
    "x = image.img_to_array(img)\n",
    "x = np.expand_dims(x, axis=0)\n",
    "x = preprocess_input(x)\n",
    "\n",
    "preds = model.predict(x)"
   ]
  },
  {
   "cell_type": "code",
   "execution_count": null,
   "metadata": {},
   "outputs": [],
   "source": [
    "np.argmax(preds[:3]) # emotions"
   ]
  },
  {
   "cell_type": "code",
   "execution_count": null,
   "metadata": {},
   "outputs": [],
   "source": [
    "np.argmax(preds[3:5]) # gender"
   ]
  },
  {
   "cell_type": "code",
   "execution_count": null,
   "metadata": {},
   "outputs": [],
   "source": [
    "np.argmax(preds[5:]) # age class"
   ]
  },
  {
   "cell_type": "code",
   "execution_count": null,
   "metadata": {},
   "outputs": [],
   "source": []
  }
 ],
 "metadata": {
  "hide_input": false,
  "kernelspec": {
   "display_name": "Python 3",
   "language": "python",
   "name": "python3"
  },
  "language_info": {
   "codemirror_mode": {
    "name": "ipython",
    "version": 3
   },
   "file_extension": ".py",
   "mimetype": "text/x-python",
   "name": "python",
   "nbconvert_exporter": "python",
   "pygments_lexer": "ipython3",
   "version": "3.6.8"
  },
  "varInspector": {
   "cols": {
    "lenName": 16,
    "lenType": 16,
    "lenVar": 40
   },
   "kernels_config": {
    "python": {
     "delete_cmd_postfix": "",
     "delete_cmd_prefix": "del ",
     "library": "var_list.py",
     "varRefreshCmd": "print(var_dic_list())"
    },
    "r": {
     "delete_cmd_postfix": ") ",
     "delete_cmd_prefix": "rm(",
     "library": "var_list.r",
     "varRefreshCmd": "cat(var_dic_list()) "
    }
   },
   "types_to_exclude": [
    "module",
    "function",
    "builtin_function_or_method",
    "instance",
    "_Feature"
   ],
   "window_display": false
  }
 },
 "nbformat": 4,
 "nbformat_minor": 2
}
