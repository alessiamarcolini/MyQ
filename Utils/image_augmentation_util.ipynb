{
 "cells": [
  {
   "cell_type": "code",
   "execution_count": null,
   "metadata": {},
   "outputs": [],
   "source": [
    "import cv2\n",
    "import numpy as np\n",
    "import matplotlib.image as mpimg\n",
    "import os"
   ]
  },
  {
   "cell_type": "code",
   "execution_count": null,
   "metadata": {},
   "outputs": [],
   "source": [
    "def augment_brightness_camera_images(image):\n",
    "\n",
    "    image1 = cv2.cvtColor(image, cv2.COLOR_RGB2HSV)\n",
    "    random_bright = .25 + np.random.uniform()\n",
    "    #print(random_bright)\n",
    "    image1[:,:,2] = image1[:,:,2]*random_bright\n",
    "    image1 = cv2.cvtColor(image1, cv2.COLOR_HSV2RGB)\n",
    "    return image1"
   ]
  },
  {
   "cell_type": "code",
   "execution_count": null,
   "metadata": {},
   "outputs": [],
   "source": [
    "def transform_image(img, ang_range, shear_range, trans_range, brightness=False):\n",
    "    '''\n",
    "    This function transforms images to generate new images.\n",
    "    The function takes in following arguments,\n",
    "    1- Image\n",
    "    2- ang_range: Range of angles for rotation\n",
    "    3- shear_range: Range of values to apply affine transform to\n",
    "    4- trans_range: Range of values to apply translations over.\n",
    "\n",
    "    A Random uniform distribution is used to generate different parameters for transformation\n",
    "\n",
    "    '''\n",
    "    # Rotation\n",
    "    ang_rot = np.random.uniform(ang_range) - ang_range/2\n",
    "    rows,cols,ch = img.shape\n",
    "    Rot_M = cv2.getRotationMatrix2D((cols/2,rows/2), ang_rot, 1)\n",
    "\n",
    "    # Translation\n",
    "    tr_x = trans_range*np.random.uniform() - trans_range/2\n",
    "    tr_y = trans_range*np.random.uniform() - trans_range/2\n",
    "    Trans_M = np.float32([[1,0,tr_x], [0,1,tr_y]])\n",
    "\n",
    "    # Shear\n",
    "    pts1 = np.float32([[5,5], [20,5], [5,20]])\n",
    "\n",
    "    pt1 = 5 + shear_range*np.random.uniform() - shear_range/2\n",
    "    pt2 = 20 + shear_range*np.random.uniform() - shear_range/2\n",
    "\n",
    "    # Brightness\n",
    "    pts2 = np.float32([[pt1,5], [pt2,pt1], [5,pt2]])\n",
    "\n",
    "    shear_M = cv2.getAffineTransform(pts1, pts2)\n",
    "\n",
    "    img = cv2.warpAffine(img, Rot_M, (cols,rows))\n",
    "    img = cv2.warpAffine(img, Trans_M, (cols,rows))\n",
    "    img = cv2.warpAffine(img, shear_M, (cols,rows))\n",
    "\n",
    "    if brightness:\n",
    "      img = augment_brightness_camera_images(img)\n",
    "\n",
    "    return img"
   ]
  },
  {
   "cell_type": "code",
   "execution_count": null,
   "metadata": {},
   "outputs": [],
   "source": [
    "PATH = '/data3/marcolini/myq_dataset/Selfie-dataset/labelled/'\n",
    "AUG_PATH = '/data3/marcolini/myq_dataset/Selfie-dataset/augmented/'\n",
    "\n",
    "if os.path.exists(PATH + '/.DS_Store'):\n",
    "    os.remove(PATH + '/.DS_Store')\n",
    "\n",
    "l_images = os.listdir(PATH)"
   ]
  },
  {
   "cell_type": "code",
   "execution_count": null,
   "metadata": {},
   "outputs": [],
   "source": [
    "l_images"
   ]
  },
  {
   "cell_type": "code",
   "execution_count": null,
   "metadata": {},
   "outputs": [],
   "source": [
    "filenames = [] \n",
    "for i in l_images:\n",
    "    isplit = i.split('_')\n",
    "    cl_sex = isplit[1]\n",
    "    cl_mood = isplit[0]\n",
    "    if cl_sex == '0' and cl_mood == '0': # select only males with negative emotions\n",
    "        filenames.append(i)"
   ]
  },
  {
   "cell_type": "code",
   "execution_count": null,
   "metadata": {},
   "outputs": [],
   "source": [
    "for f in filenames:\n",
    "    for i in range(2):\n",
    "        image = cv2.imread(os.path.join(PATH, f))\n",
    "        image = transform_image(image, 20, 10, 1, brightness=True)\n",
    "\n",
    "        new_f = f.split('.')[0] + '_' + str(i) + '.' + f.split('.')[1]\n",
    "        cv2.imwrite(os.path.join(AUG_PATH, new_f) , image)\n",
    "        "
   ]
  }
 ],
 "metadata": {
  "kernelspec": {
   "display_name": "Python 3",
   "language": "python",
   "name": "python3"
  },
  "language_info": {
   "codemirror_mode": {
    "name": "ipython",
    "version": 3
   },
   "file_extension": ".py",
   "mimetype": "text/x-python",
   "name": "python",
   "nbconvert_exporter": "python",
   "pygments_lexer": "ipython3",
   "version": "3.6.8"
  }
 },
 "nbformat": 4,
 "nbformat_minor": 2
}
